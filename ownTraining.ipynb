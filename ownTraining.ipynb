{
 "cells": [
  {
   "cell_type": "code",
   "execution_count": 1,
   "id": "75a9a0d1-1eb6-4077-a361-e2c8800d832b",
   "metadata": {},
   "outputs": [],
   "source": [
    "import tensorflow as tf\n",
    "from tensorflow.keras import datasets, layers, models\n",
    "import numpy as np\n",
    "import matplotlib.pyplot as plt"
   ]
  },
  {
   "cell_type": "code",
   "execution_count": 2,
   "id": "bc720a13-43e1-4195-8936-4eb8e8c0f995",
   "metadata": {},
   "outputs": [],
   "source": [
    "(X_train, y_train), (X_test, y_test) = datasets.cifar10.load_data()"
   ]
  },
  {
   "cell_type": "code",
   "execution_count": 3,
   "id": "185864d8-7fcf-4124-a302-6c60079d5d07",
   "metadata": {},
   "outputs": [
    {
     "name": "stdout",
     "output_type": "stream",
     "text": [
      "uint8 uint8 uint8 uint8\n"
     ]
    }
   ],
   "source": [
    "# print((X_train[0], y_train[0]))\n",
    "print(X_train.dtype, y_train.dtype, X_test.dtype, y_test.dtype)\n",
    "# print((X_test[0], y_test[0]))"
   ]
  },
  {
   "cell_type": "code",
   "execution_count": 5,
   "id": "f60bdd28-521d-4148-9913-dc3774dcbc2b",
   "metadata": {},
   "outputs": [
    {
     "data": {
      "text/plain": [
       "array([6, 9, 9, 4, 1], dtype=uint8)"
      ]
     },
     "execution_count": 5,
     "metadata": {},
     "output_type": "execute_result"
    }
   ],
   "source": [
    "y_train = y_train.reshape(-1,)\n",
    "y_train[:5]"
   ]
  },
  {
   "cell_type": "code",
   "execution_count": 6,
   "id": "28306ec4-0134-4b8d-bda3-6738ae71b4e4",
   "metadata": {},
   "outputs": [
    {
     "name": "stdout",
     "output_type": "stream",
     "text": [
      "[3 8 8 ... 5 1 7]\n"
     ]
    }
   ],
   "source": [
    "y_test = y_test.reshape(-1,)\n",
    "print(y_test)"
   ]
  },
  {
   "cell_type": "code",
   "execution_count": 8,
   "id": "980b7e03-290a-406e-8c30-d17d545ed95e",
   "metadata": {},
   "outputs": [
    {
     "name": "stdout",
     "output_type": "stream",
     "text": [
      "[[[ 59  62  63]\n",
      "  [ 43  46  45]\n",
      "  [ 50  48  43]\n",
      "  ...\n",
      "  [158 132 108]\n",
      "  [152 125 102]\n",
      "  [148 124 103]]\n",
      "\n",
      " [[ 16  20  20]\n",
      "  [  0   0   0]\n",
      "  [ 18   8   0]\n",
      "  ...\n",
      "  [123  88  55]\n",
      "  [119  83  50]\n",
      "  [122  87  57]]\n",
      "\n",
      " [[ 25  24  21]\n",
      "  [ 16   7   0]\n",
      "  [ 49  27   8]\n",
      "  ...\n",
      "  [118  84  50]\n",
      "  [120  84  50]\n",
      "  [109  73  42]]\n",
      "\n",
      " ...\n",
      "\n",
      " [[208 170  96]\n",
      "  [201 153  34]\n",
      "  [198 161  26]\n",
      "  ...\n",
      "  [160 133  70]\n",
      "  [ 56  31   7]\n",
      "  [ 53  34  20]]\n",
      "\n",
      " [[180 139  96]\n",
      "  [173 123  42]\n",
      "  [186 144  30]\n",
      "  ...\n",
      "  [184 148  94]\n",
      "  [ 97  62  34]\n",
      "  [ 83  53  34]]\n",
      "\n",
      " [[177 144 116]\n",
      "  [168 129  94]\n",
      "  [179 142  87]\n",
      "  ...\n",
      "  [216 184 140]\n",
      "  [151 118  84]\n",
      "  [123  92  72]]]\n"
     ]
    }
   ],
   "source": [
    "print(X_train[0])"
   ]
  },
  {
   "cell_type": "code",
   "execution_count": 9,
   "id": "0429940e-09c3-48d1-88d9-d69b1c6314a3",
   "metadata": {},
   "outputs": [],
   "source": [
    "classes = ['airplane', 'automobile','bird','cat','deer','dog', 'frog', 'horse', 'ship', 'truck']"
   ]
  },
  {
   "cell_type": "code",
   "execution_count": 11,
   "id": "7e602a9d-cd76-4bb1-af08-bdc4419e556c",
   "metadata": {},
   "outputs": [],
   "source": [
    "def plot_sample(X,y, index):\n",
    "    plt.figure(figsize=(15,2))\n",
    "    plt.imshow(X[index])\n",
    "    plt.xlabel(classes[y[index]])"
   ]
  },
  {
   "cell_type": "code",
   "execution_count": 12,
   "id": "3c2d266e-203d-49cd-99a1-a977b4ce2fc2",
   "metadata": {},
   "outputs": [
    {
     "data": {
      "image/png": "[encoded data removed]",
      "text/plain": [
       "<Figure size 1500x200 with 1 Axes>"
      ]
     },
     "metadata": {},
     "output_type": "display_data"
    }
   ],
   "source": [
    "plot_sample(X_train, y_train, 5)"
   ]
  },
  {
   "cell_type": "code",
   "execution_count": 15,
   "id": "ee3eeee0-4ed0-4bd5-bbea-e64a33a2260c",
   "metadata": {},
   "outputs": [
    {
     "name": "stdout",
     "output_type": "stream",
     "text": [
      "[[[3.55820914e-06 3.73913502e-06 3.79944365e-06]\n",
      "  [2.59327106e-06 2.77419695e-06 2.71388832e-06]\n",
      "  [3.01543147e-06 2.89481421e-06 2.59327106e-06]\n",
      "  ...\n",
      "  [9.52876345e-06 7.96073908e-06 6.51333198e-06]\n",
      "  [9.16691167e-06 7.53857868e-06 6.15148020e-06]\n",
      "  [8.92567715e-06 7.47827005e-06 6.21178883e-06]]\n",
      "\n",
      " [[9.64938071e-07 1.20617259e-06 1.20617259e-06]\n",
      "  [0.00000000e+00 0.00000000e+00 0.00000000e+00]\n",
      "  [1.08555533e-06 4.82469035e-07 0.00000000e+00]\n",
      "  ...\n",
      "  [7.41796142e-06 5.30715939e-06 3.31697462e-06]\n",
      "  [7.17672690e-06 5.00561624e-06 3.01543147e-06]\n",
      "  [7.35765279e-06 5.24685076e-06 3.43759188e-06]]\n",
      "\n",
      " [[1.50771574e-06 1.44740711e-06 1.26648122e-06]\n",
      "  [9.64938071e-07 4.22160406e-07 0.00000000e+00]\n",
      "  [2.95512284e-06 1.62833299e-06 4.82469035e-07]\n",
      "  ...\n",
      "  [7.11641827e-06 5.06592487e-06 3.01543147e-06]\n",
      "  [7.23703553e-06 5.06592487e-06 3.01543147e-06]\n",
      "  [6.57364061e-06 4.40252995e-06 2.53296244e-06]]\n",
      "\n",
      " ...\n",
      "\n",
      " [[1.25441949e-05 1.02524670e-05 5.78962842e-06]\n",
      "  [1.21220345e-05 9.22722030e-06 2.05049340e-06]\n",
      "  [1.19411086e-05 9.70968934e-06 1.56802436e-06]\n",
      "  ...\n",
      "  [9.64938071e-06 8.02104771e-06 4.22160406e-06]\n",
      "  [3.37728325e-06 1.86956751e-06 4.22160406e-07]\n",
      "  [3.19635736e-06 2.05049340e-06 1.20617259e-06]]\n",
      "\n",
      " [[1.08555533e-05 8.38289949e-06 5.78962842e-06]\n",
      "  [1.04333929e-05 7.41796142e-06 2.53296244e-06]\n",
      "  [1.12174051e-05 8.68444264e-06 1.80925888e-06]\n",
      "  ...\n",
      "  [1.10967878e-05 8.92567715e-06 5.66901116e-06]\n",
      "  [5.84993705e-06 3.73913502e-06 2.05049340e-06]\n",
      "  [5.00561624e-06 3.19635736e-06 2.05049340e-06]]\n",
      "\n",
      " [[1.06746274e-05 8.68444264e-06 6.99580101e-06]\n",
      "  [1.01318497e-05 7.77981319e-06 5.66901116e-06]\n",
      "  [1.07952447e-05 8.56382538e-06 5.24685076e-06]\n",
      "  ...\n",
      "  [1.30266640e-05 1.10967878e-05 8.44320812e-06]\n",
      "  [9.10660304e-06 7.11641827e-06 5.06592487e-06]\n",
      "  [7.41796142e-06 5.54839391e-06 4.34222132e-06]]] [[[9.52876345e-06 6.75456649e-06 2.95512284e-06]\n",
      "  [9.58907208e-06 6.69425786e-06 2.83450558e-06]\n",
      "  [9.95092385e-06 6.99580101e-06 3.07574010e-06]\n",
      "  ...\n",
      "  [8.26228223e-06 5.72931979e-06 2.17111066e-06]\n",
      "  [7.59888731e-06 5.48808528e-06 2.17111066e-06]\n",
      "  [6.99580101e-06 5.12623350e-06 1.99018477e-06]]\n",
      "\n",
      " [[9.16691167e-06 6.75456649e-06 3.07574010e-06]\n",
      "  [9.10660304e-06 6.63394924e-06 2.41234518e-06]\n",
      "  [9.58907208e-06 6.87518375e-06 2.71388832e-06]\n",
      "  ...\n",
      "  [8.20197360e-06 5.72931979e-06 1.86956751e-06]\n",
      "  [7.53857868e-06 5.48808528e-06 1.92987614e-06]\n",
      "  [7.17672690e-06 5.30715939e-06 2.05049340e-06]]\n",
      "\n",
      " [[9.10660304e-06 6.63394924e-06 2.83450558e-06]\n",
      "  [9.10660304e-06 6.57364061e-06 1.99018477e-06]\n",
      "  [9.52876345e-06 6.69425786e-06 2.17111066e-06]\n",
      "  ...\n",
      "  [8.38289949e-06 5.91024568e-06 2.05049340e-06]\n",
      "  [7.84012182e-06 5.72931979e-06 2.05049340e-06]\n",
      "  [7.23703553e-06 5.36746802e-06 1.99018477e-06]]\n",
      "\n",
      " ...\n",
      "\n",
      " [[4.10098680e-06 7.47827005e-06 1.06746274e-05]\n",
      "  [2.53296244e-06 6.03086294e-06 8.92567715e-06]\n",
      "  [1.86956751e-06 5.30715939e-06 8.26228223e-06]\n",
      "  ...\n",
      "  [2.29172792e-06 5.84993705e-06 8.80505989e-06]\n",
      "  [7.84012182e-07 3.85975228e-06 6.51333198e-06]\n",
      "  [2.41234518e-06 5.12623350e-06 7.65919594e-06]]\n",
      "\n",
      " [[3.67882639e-06 6.99580101e-06 1.01318497e-05]\n",
      "  [2.95512284e-06 6.15148020e-06 8.92567715e-06]\n",
      "  [2.11080203e-06 5.12623350e-06 7.96073908e-06]\n",
      "  ...\n",
      "  [1.56802436e-06 4.94530761e-06 7.84012182e-06]\n",
      "  [1.74895025e-06 4.94530761e-06 7.59888731e-06]\n",
      "  [1.20617259e-06 3.85975228e-06 6.45302335e-06]]\n",
      "\n",
      " [[3.25666599e-06 6.45302335e-06 9.64938071e-06]\n",
      "  [3.37728325e-06 6.33240609e-06 8.98598578e-06]\n",
      "  [2.71388832e-06 5.36746802e-06 7.96073908e-06]\n",
      "  ...\n",
      "  [1.44740711e-06 4.64376446e-06 7.47827005e-06]\n",
      "  [2.05049340e-06 5.06592487e-06 7.77981319e-06]\n",
      "  [1.26648122e-06 4.04067817e-06 6.63394924e-06]]] 6 3\n"
     ]
    }
   ],
   "source": [
    "X_train = X_train / 255.0\n",
    "X_test = X_test / 255.0\n",
    "print(X_train[0], X_test[0],y_train[0],y_test[0])"
   ]
  },
  {
   "cell_type": "code",
   "execution_count": null,
   "id": "f2e519f0-bc7d-4106-a14e-6ed4386b17ee",
   "metadata": {},
   "outputs": [
    {
     "name": "stdout",
     "output_type": "stream",
     "text": [
      "Epoch 1/5\n",
      " 641/1563 [===========>..................] - ETA: 46s - loss: 2.3026 - accuracy: 0.1018"
     ]
    }
   ],
   "source": [
    "ann = models.Sequential([\n",
    "    layers.Flatten(input_shape=(32,32,3)),\n",
    "    layers.Dense(3000,activation='relu'),\n",
    "    layers.Dense(1000,activation='relu'),\n",
    "    layers.Dense(10, activation ='softmax')\n",
    "])\n",
    "\n",
    "ann.compile(optimizer ='SGD',\n",
    "           loss ='sparse_categorical_crossentropy',\n",
    "           metrics=['accuracy'])\n",
    "\n",
    "ann.fit(X_train, y_train, epochs = 5)"
   ]
  },
  {
   "cell_type": "code",
   "execution_count": 35,
   "id": "98de8de5-7d7f-4c42-a841-edde37de39dd",
   "metadata": {},
   "outputs": [],
   "source": [
    "# print(X_test) "
   ]
  },
  {
   "cell_type": "code",
   "execution_count": 37,
   "id": "fcb4950f-487f-4696-b48a-70168d9138b0",
   "metadata": {},
   "outputs": [
    {
     "name": "stdout",
     "output_type": "stream",
     "text": [
      "313/313 [==============================] - 4s 11ms/step\n",
      "[3 8 8 ... 5 1 7]\n"
     ]
    },
    {
     "ename": "AttributeError",
     "evalue": "'list' object has no attribute 'dtype'",
     "output_type": "error",
     "traceback": [
      "\u001b[1;31m---------------------------------------------------------------------------\u001b[0m",
      "\u001b[1;31mAttributeError\u001b[0m                            Traceback (most recent call last)",
      "\u001b[1;32m~\\AppData\\Local\\Temp\\ipykernel_9496\\505086163.py\u001b[0m in \u001b[0;36m<module>\u001b[1;34m\u001b[0m\n\u001b[0;32m      5\u001b[0m \u001b[1;31m# print(X_test[:5])\u001b[0m\u001b[1;33m\u001b[0m\u001b[1;33m\u001b[0m\u001b[0m\n\u001b[0;32m      6\u001b[0m \u001b[0mprint\u001b[0m\u001b[1;33m(\u001b[0m\u001b[0my_test\u001b[0m\u001b[1;33m)\u001b[0m\u001b[1;33m\u001b[0m\u001b[1;33m\u001b[0m\u001b[0m\n\u001b[1;32m----> 7\u001b[1;33m \u001b[0mprint\u001b[0m\u001b[1;33m(\u001b[0m\u001b[0my_pred_classes\u001b[0m\u001b[1;33m.\u001b[0m\u001b[0mdtype\u001b[0m\u001b[1;33m)\u001b[0m\u001b[1;33m\u001b[0m\u001b[1;33m\u001b[0m\u001b[0m\n\u001b[0m\u001b[0;32m      8\u001b[0m \u001b[0mprint\u001b[0m\u001b[1;33m(\u001b[0m\u001b[0my_pred\u001b[0m\u001b[1;33m)\u001b[0m\u001b[1;33m\u001b[0m\u001b[1;33m\u001b[0m\u001b[0m\n\u001b[0;32m      9\u001b[0m \u001b[0mprint\u001b[0m\u001b[1;33m(\u001b[0m\u001b[0my_pred_classes\u001b[0m\u001b[1;33m)\u001b[0m\u001b[1;33m\u001b[0m\u001b[1;33m\u001b[0m\u001b[0m\n",
      "\u001b[1;31mAttributeError\u001b[0m: 'list' object has no attribute 'dtype'"
     ]
    }
   ],
   "source": [
    "from sklearn.metrics import confusion_matrix, classification_report\n",
    "import numpy as np\n",
    "y_pred = ann.predict(X_test)\n",
    "y_pred_classes = [np.argmax(element) for element in y_pred]\n",
    "# print(X_test[:5])\n",
    "print(y_test)\n",
    "print(y_pred_classes.dtype)\n",
    "print(y_pred)\n",
    "print(y_pred_classes)\n",
    "# print('classification report : \\n', classification_report(y_test, y_pred_classes))"
   ]
  },
  {
   "cell_type": "code",
   "execution_count": null,
   "id": "fb9bb47e-859f-4f0e-baf5-c3861e298e89",
   "metadata": {},
   "outputs": [],
   "source": []
  },
  {
   "cell_type": "code",
   "execution_count": 44,
   "id": "5a712db2-9ad2-4ffe-b594-e1e8bb0db3a5",
   "metadata": {},
   "outputs": [],
   "source": [
    "cnn = models.Sequential([\n",
    "    layers.Conv2D(filters = 16, kernel_size = (3,3), activation = 'relu', input_shape =(32,32,3)),\n",
    "    layers.MaxPooling2D((2,2)),\n",
    "    \n",
    "    layers.Conv2D(filters = 32, kernel_size = (3,3), activation = 'relu'),\n",
    "    layers.MaxPooling2D((2,2)),\n",
    "\n",
    "    layers.Conv2D(filters = 64, kernel_size = (3,3), activation = 'relu'),\n",
    "    layers.MaxPooling2D((2,2)),\n",
    "\n",
    "    layers.Flatten(),\n",
    "    layers.Dense(64, activation = 'relu'),\n",
    "    layers.Dense(10, activation = 'softmax')\n",
    "])"
   ]
  },
  {
   "cell_type": "code",
   "execution_count": 45,
   "id": "367862de-409d-41c2-bca4-a3f6645f056d",
   "metadata": {},
   "outputs": [],
   "source": [
    "cnn.compile(\n",
    "    optimizer='adam', \n",
    "    loss='sparse_categorical_crossentropy', \n",
    "    metrics=['accuracy'])"
   ]
  },
  {
   "cell_type": "code",
   "execution_count": 46,
   "id": "9eeedeae-2057-4719-97c4-e2c43b2eabc2",
   "metadata": {},
   "outputs": [],
   "source": [
    "val_images = X_train[:5000]\n",
    "partial_images = X_train[5000:]\n",
    "val_labels = y_train[:5000]\n",
    "partial_labels = y_train[5000:]"
   ]
  },
  {
   "cell_type": "code",
   "execution_count": 47,
   "id": "f769c0f4-1224-475c-a7bc-bfbaf4006426",
   "metadata": {},
   "outputs": [
    {
     "name": "stdout",
     "output_type": "stream",
     "text": [
      "Epoch 1/25\n",
      "1407/1407 [==============================] - 25s 17ms/step - loss: 1.6489 - accuracy: 0.3925 - val_loss: 1.4370 - val_accuracy: 0.4812\n",
      "Epoch 2/25\n",
      "1407/1407 [==============================] - 25s 17ms/step - loss: 1.2968 - accuracy: 0.5350 - val_loss: 1.2952 - val_accuracy: 0.5420\n",
      "Epoch 3/25\n",
      "1407/1407 [==============================] - 24s 17ms/step - loss: 1.1641 - accuracy: 0.5875 - val_loss: 1.1222 - val_accuracy: 0.6040\n",
      "Epoch 4/25\n",
      "1407/1407 [==============================] - 24s 17ms/step - loss: 1.0830 - accuracy: 0.6171 - val_loss: 1.0895 - val_accuracy: 0.6162\n",
      "Epoch 5/25\n",
      "1407/1407 [==============================] - 24s 17ms/step - loss: 1.0149 - accuracy: 0.6422 - val_loss: 1.0689 - val_accuracy: 0.6304\n",
      "Epoch 6/25\n",
      "1407/1407 [==============================] - 24s 17ms/step - loss: 0.9649 - accuracy: 0.6591 - val_loss: 0.9913 - val_accuracy: 0.6620\n",
      "Epoch 7/25\n",
      "1407/1407 [==============================] - 24s 17ms/step - loss: 0.9200 - accuracy: 0.6775 - val_loss: 1.0052 - val_accuracy: 0.6544\n",
      "Epoch 8/25\n",
      "1407/1407 [==============================] - 22s 16ms/step - loss: 0.8763 - accuracy: 0.6948 - val_loss: 0.9986 - val_accuracy: 0.6602\n",
      "Epoch 9/25\n",
      "1407/1407 [==============================] - 22s 15ms/step - loss: 0.8482 - accuracy: 0.7034 - val_loss: 0.9400 - val_accuracy: 0.6798\n",
      "Epoch 10/25\n",
      "1407/1407 [==============================] - 24s 17ms/step - loss: 0.8140 - accuracy: 0.7155 - val_loss: 0.9298 - val_accuracy: 0.6804\n",
      "Epoch 11/25\n",
      "1407/1407 [==============================] - 23s 16ms/step - loss: 0.7896 - accuracy: 0.7232 - val_loss: 0.9302 - val_accuracy: 0.6840\n",
      "Epoch 12/25\n",
      "1407/1407 [==============================] - 23s 16ms/step - loss: 0.7606 - accuracy: 0.7336 - val_loss: 0.9325 - val_accuracy: 0.6768\n",
      "Epoch 13/25\n",
      "1407/1407 [==============================] - 23s 16ms/step - loss: 0.7370 - accuracy: 0.7409 - val_loss: 0.9264 - val_accuracy: 0.6918\n",
      "Epoch 14/25\n",
      "1407/1407 [==============================] - 22s 16ms/step - loss: 0.7138 - accuracy: 0.7500 - val_loss: 0.9312 - val_accuracy: 0.6862\n",
      "Epoch 15/25\n",
      "1407/1407 [==============================] - 22s 16ms/step - loss: 0.6953 - accuracy: 0.7558 - val_loss: 0.9822 - val_accuracy: 0.6736\n",
      "Epoch 16/25\n",
      "1407/1407 [==============================] - 23s 17ms/step - loss: 0.6764 - accuracy: 0.7625 - val_loss: 0.9193 - val_accuracy: 0.6894\n",
      "Epoch 17/25\n",
      "1407/1407 [==============================] - 24s 17ms/step - loss: 0.6612 - accuracy: 0.7687 - val_loss: 0.9502 - val_accuracy: 0.6888\n",
      "Epoch 18/25\n",
      "1407/1407 [==============================] - 22s 16ms/step - loss: 0.6457 - accuracy: 0.7718 - val_loss: 0.9678 - val_accuracy: 0.6900\n",
      "Epoch 19/25\n",
      "1407/1407 [==============================] - 22s 16ms/step - loss: 0.6273 - accuracy: 0.7785 - val_loss: 0.9650 - val_accuracy: 0.6902\n",
      "Epoch 20/25\n",
      "1407/1407 [==============================] - 22s 16ms/step - loss: 0.6147 - accuracy: 0.7820 - val_loss: 0.9587 - val_accuracy: 0.6900\n",
      "Epoch 21/25\n",
      "1407/1407 [==============================] - 21s 15ms/step - loss: 0.5981 - accuracy: 0.7875 - val_loss: 0.9698 - val_accuracy: 0.6928\n",
      "Epoch 22/25\n",
      "1407/1407 [==============================] - 21s 15ms/step - loss: 0.5884 - accuracy: 0.7918 - val_loss: 0.9924 - val_accuracy: 0.6912\n",
      "Epoch 23/25\n",
      "1407/1407 [==============================] - 21s 15ms/step - loss: 0.5710 - accuracy: 0.8004 - val_loss: 0.9685 - val_accuracy: 0.6976\n",
      "Epoch 24/25\n",
      "1407/1407 [==============================] - 21s 15ms/step - loss: 0.5620 - accuracy: 0.8017 - val_loss: 0.9751 - val_accuracy: 0.6972\n",
      "Epoch 25/25\n",
      "1407/1407 [==============================] - 21s 15ms/step - loss: 0.5523 - accuracy: 0.8049 - val_loss: 1.0027 - val_accuracy: 0.6988\n"
     ]
    },
    {
     "data": {
      "text/plain": [
       "<keras.callbacks.History at 0x26c0df81eb0>"
      ]
     },
     "execution_count": 47,
     "metadata": {},
     "output_type": "execute_result"
    }
   ],
   "source": [
    "# cnn.fit(X_train, y_train, epochs = 10)\n",
    "cnn.fit(partial_images, partial_labels, batch_size=32,\n",
    "                    epochs=25, validation_data=(val_images, val_labels))"
   ]
  },
  {
   "cell_type": "code",
   "execution_count": 48,
   "id": "163cdfb2-7da1-4b62-b974-78be861e1dc6",
   "metadata": {},
   "outputs": [
    {
     "name": "stdout",
     "output_type": "stream",
     "text": [
      "313/313 [==============================] - 2s 6ms/step - loss: 1.0365 - accuracy: 0.6840\n"
     ]
    },
    {
     "data": {
      "text/plain": [
       "[1.0365278720855713, 0.6840000152587891]"
      ]
     },
     "execution_count": 48,
     "metadata": {},
     "output_type": "execute_result"
    }
   ],
   "source": [
    "cnn.evaluate(X_test, y_test)"
   ]
  },
  {
   "cell_type": "code",
   "execution_count": 54,
   "id": "cd180963-3f40-4c98-b25b-4161cf58fc49",
   "metadata": {},
   "outputs": [
    {
     "data": {
      "text/plain": [
       "[3, 9, 0, 0, 4]"
      ]
     },
     "execution_count": 54,
     "metadata": {},
     "output_type": "execute_result"
    }
   ],
   "source": [
    "y_classes = [np.argmax(element) for element in y_pred]\n",
    "y_classes[:5]"
   ]
  },
  {
   "cell_type": "code",
   "execution_count": 55,
   "id": "a6736e9e-afc3-4664-88ed-721cb8be10c6",
   "metadata": {},
   "outputs": [
    {
     "data": {
      "text/plain": [
       "array([3, 8, 8, 0, 6], dtype=uint8)"
      ]
     },
     "execution_count": 55,
     "metadata": {},
     "output_type": "execute_result"
    }
   ],
   "source": [
    "y_test[:5]"
   ]
  },
  {
   "cell_type": "code",
   "execution_count": 56,
   "id": "9c3acd4f-6347-4d53-800c-e5f91d85447f",
   "metadata": {},
   "outputs": [
    {
     "data": {
      "image/png": "[encoded data removed]",
      "text/plain": [
       "<Figure size 1500x200 with 1 Axes>"
      ]
     },
     "metadata": {},
     "output_type": "display_data"
    }
   ],
   "source": [
    "plot_sample(X_test, y_test, 1)"
   ]
  },
  {
   "cell_type": "code",
   "execution_count": 59,
   "id": "0a5e0293-4415-40a0-a4a4-9634d12fd85e",
   "metadata": {},
   "outputs": [
    {
     "name": "stdout",
     "output_type": "stream",
     "text": [
      "313/313 [==============================] - 2s 6ms/step\n"
     ]
    },
    {
     "data": {
      "text/plain": [
       "array([[1.46021252e-03, 2.68018430e-05, 1.46066770e-02, 3.03045034e-01,\n",
       "        1.23895044e-02, 6.38613880e-01, 2.13999432e-02, 4.26417682e-03,\n",
       "        7.33222114e-04, 3.46055953e-03],\n",
       "       [8.00070725e-03, 5.32854989e-04, 1.29400988e-07, 3.43784450e-06,\n",
       "        6.88803112e-08, 1.98013595e-07, 9.37832256e-10, 1.12810937e-06,\n",
       "        9.91304994e-01, 1.56504379e-04],\n",
       "       [2.80533973e-02, 1.08630344e-01, 6.06593734e-04, 7.09402142e-03,\n",
       "        1.97084341e-03, 1.82608317e-03, 9.02681903e-04, 3.02987802e-03,\n",
       "        1.21556157e-02, 8.35730553e-01],\n",
       "       [5.55654943e-01, 1.32496096e-03, 6.74584927e-03, 9.19920974e-04,\n",
       "        3.86812654e-03, 1.93473024e-04, 5.29976794e-04, 1.24060301e-04,\n",
       "        4.30340230e-01, 2.98439962e-04],\n",
       "       [3.79388126e-07, 8.63482967e-07, 6.32283511e-04, 4.40433584e-02,\n",
       "        9.17830169e-01, 3.78791662e-03, 3.36924605e-02, 7.70459246e-06,\n",
       "        1.58263629e-06, 3.34007268e-06]], dtype=float32)"
      ]
     },
     "execution_count": 59,
     "metadata": {},
     "output_type": "execute_result"
    }
   ],
   "source": [
    "y_pred = cnn.predict(X_test)\n",
    "y_pred[:5]"
   ]
  },
  {
   "cell_type": "code",
   "execution_count": 65,
   "id": "5b86b5f1-c9de-43e9-8d1c-de3c203e3abe",
   "metadata": {},
   "outputs": [
    {
     "data": {
      "text/plain": [
       "[5, 8, 9, 0, 4]"
      ]
     },
     "execution_count": 65,
     "metadata": {},
     "output_type": "execute_result"
    }
   ],
   "source": [
    "y_classes = [np.argmax(element) for element in y_pred]\n",
    "y_classes[:5]"
   ]
  },
  {
   "cell_type": "code",
   "execution_count": 66,
   "id": "b7c0ee5c-5d89-4ba5-89a9-2b68dc1a1ada",
   "metadata": {},
   "outputs": [
    {
     "data": {
      "text/plain": [
       "array([3, 8, 8, 0, 6], dtype=uint8)"
      ]
     },
     "execution_count": 66,
     "metadata": {},
     "output_type": "execute_result"
    }
   ],
   "source": [
    "y_test[:5]"
   ]
  },
  {
   "cell_type": "code",
   "execution_count": 73,
   "id": "58d16c15-39f5-4ecc-8cbd-b7e12a7965c1",
   "metadata": {},
   "outputs": [
    {
     "data": {
      "image/png": "[encoded data removed]",
      "text/plain": [
       "<Figure size 1500x200 with 1 Axes>"
      ]
     },
     "metadata": {},
     "output_type": "display_data"
    }
   ],
   "source": [
    "plot_sample(X_test, y_test, 4)"
   ]
  },
  {
   "cell_type": "code",
   "execution_count": 74,
   "id": "96baf283-d99a-449a-a5b1-ddc37fb4086a",
   "metadata": {},
   "outputs": [
    {
     "data": {
      "text/plain": [
       "'deer'"
      ]
     },
     "execution_count": 74,
     "metadata": {},
     "output_type": "execute_result"
    }
   ],
   "source": [
    "classes[y_classes[4]]"
   ]
  },
  {
   "cell_type": "code",
   "execution_count": 75,
   "id": "1f98c00b-c227-4eca-820e-29d77bd5d4f7",
   "metadata": {},
   "outputs": [
    {
     "name": "stdout",
     "output_type": "stream",
     "text": [
      "classification report : \n",
      "               precision    recall  f1-score   support\n",
      "\n",
      "           0       0.74      0.72      0.73      1000\n",
      "           1       0.81      0.80      0.80      1000\n",
      "           2       0.60      0.56      0.58      1000\n",
      "           3       0.44      0.58      0.50      1000\n",
      "           4       0.62      0.67      0.64      1000\n",
      "           5       0.63      0.52      0.57      1000\n",
      "           6       0.78      0.74      0.76      1000\n",
      "           7       0.72      0.74      0.73      1000\n",
      "           8       0.79      0.78      0.78      1000\n",
      "           9       0.79      0.73      0.76      1000\n",
      "\n",
      "    accuracy                           0.68     10000\n",
      "   macro avg       0.69      0.68      0.69     10000\n",
      "weighted avg       0.69      0.68      0.69     10000\n",
      "\n"
     ]
    }
   ],
   "source": [
    "print('classification report : \\n', classification_report(y_test, y_classes))"
   ]
  },
  {
   "cell_type": "code",
   "execution_count": null,
   "id": "ef4a1af0-fadb-4a2c-923d-8db357f07c44",
   "metadata": {},
   "outputs": [],
   "source": []
  }
 ],
 "metadata": {
  "kernelspec": {
   "display_name": "Python 3 (ipykernel)",
   "language": "python",
   "name": "python3"
  },
  "language_info": {
   "codemirror_mode": {
    "name": "ipython",
    "version": 3
   },
   "file_extension": ".py",
   "mimetype": "text/x-python",
   "name": "python",
   "nbconvert_exporter": "python",
   "pygments_lexer": "ipython3",
   "version": "3.9.13"
  }
 },
 "nbformat": 4,
 "nbformat_minor": 5
}
